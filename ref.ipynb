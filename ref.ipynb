{
 "cells": [
  {
   "cell_type": "code",
   "execution_count": 57,
   "id": "45a2de50",
   "metadata": {
    "pycharm": {
     "name": "#%%\n"
    }
   },
   "outputs": [
    {
     "name": "stdout",
     "output_type": "stream",
     "text": [
      "Thu Dec  2 14:02:39 2021\n"
     ]
    }
   ],
   "source": [
    "import time\n",
    "def time_now():\n",
    "    return time.asctime()\n",
    "\n",
    "print(time_now())"
   ]
  },
  {
   "cell_type": "code",
   "execution_count": 56,
   "metadata": {
    "collapsed": false,
    "pycharm": {
     "name": "#%%\n"
    }
   },
   "outputs": [
    {
     "name": "stdout",
     "output_type": "stream",
     "text": [
      "6\n",
      "6\n",
      "3\n",
      "7\n"
     ]
    }
   ],
   "source": [
    "def lam(x):\n",
    "    return lambda a, b = 1 : a + b + x\n",
    "\n",
    "fun = lam(1)\n",
    "print(fun(2,3))\n",
    "print(lam(1)(2,3))\n",
    "\n",
    "\n",
    "def fun2_def(a):\n",
    "    def fun3(b):\n",
    "        return a + b\n",
    "    return fun3\n",
    "print(fun2_def(3)(4))\n",
    "\n",
    "fun2_lambda = lambda a : lambda b : a + b\n",
    "print(fun2_lambda(1)(2))\n"
   ]
  },
  {
   "cell_type": "code",
   "execution_count": 67,
   "metadata": {
    "collapsed": false,
    "pycharm": {
     "name": "#%%\n"
    }
   },
   "outputs": [
    {
     "name": "stdout",
     "output_type": "stream",
     "text": [
      "3\n",
      "5\n",
      "3\n"
     ]
    }
   ],
   "source": [
    "def args1(*args):\n",
    "    return args[2]\n",
    "\n",
    "print(args1(1,2,3))\n",
    "\n",
    "def args2(**args):\n",
    "    return args['key2']\n",
    "\n",
    "print(args2(\n",
    "    key1 = 2,\n",
    "    key2 = 5\n",
    "))\n",
    "\n",
    "def args3(key1, key2 = 2, key3 = 3):\n",
    "    return key2\n",
    "\n",
    "print(args3(\n",
    "    key1 = 1,\n",
    "    key2 = 3\n",
    "))"
   ]
  },
  {
   "cell_type": "code",
   "execution_count": 68,
   "metadata": {
    "collapsed": false,
    "pycharm": {
     "name": "#%%\n"
    }
   },
   "outputs": [
    {
     "name": "stdout",
     "output_type": "stream",
     "text": [
      "[5.2200008  6.58657047 6.06252307 5.92509277 3.99315447 4.85232466\n",
      " 3.5812846  4.4519313  5.71880631 4.93105571][ 8.53146033  4.92402201  8.5618838   8.0377508   7.81929666  9.29228219\n",
      " 10.88914475  8.86989342  9.31118039  9.34403021]\n"
     ]
    },
    {
     "data": {
      "image/png": "[encoded data removed]",
      "text/plain": [
       "<Figure size 432x288 with 1 Axes>"
      ]
     },
     "metadata": {
      "needs_background": "light"
     },
     "output_type": "display_data"
    }
   ],
   "source": [
    "import numpy\n",
    "import matplotlib.pyplot as plt\n",
    "\n",
    "x = numpy.random.normal(5.0, 1.0, 10)\n",
    "y = numpy.random.normal(10.0, 2.0, 10)\n",
    "\n",
    "print(\"{0}{1}\".format(x, y))\n",
    "\n",
    "plt.scatter(x, y)\n",
    "plt.grid()\n",
    "plt.show()"
   ]
  },
  {
   "cell_type": "code",
   "execution_count": 48,
   "metadata": {
    "collapsed": false,
    "pycharm": {
     "name": "#%%\n"
    }
   },
   "outputs": [
    {
     "name": "stdout",
     "output_type": "stream",
     "text": [
      "[ 3.05512774 13.3636883   4.26809944 -3.93730006  2.09368519]\n",
      "[  87.71040801 -179.17169702  -46.61190001 -201.57774844   19.51137884]\n"
     ]
    },
    {
     "data": {
      "image/png": "[encoded data removed]",
      "text/plain": [
       "<Figure size 432x288 with 1 Axes>"
      ]
     },
     "metadata": {
      "needs_background": "light"
     },
     "output_type": "display_data"
    }
   ],
   "source": [
    "import numpy\n",
    "import matplotlib.pyplot as plt\n",
    "\n",
    "n_trand = lambda a, b, c : numpy.random.normal(a, b, c)\n",
    "distribution_size = 5\n",
    "x = n_trand(5.0, 5.0, distribution_size)\n",
    "y = n_trand(5.0, 95, distribution_size)\n",
    "\n",
    "model = numpy.poly1d(numpy.polyfit(x, y, 3))\n",
    "line = numpy.linspace(min(x), 20, 50)\n",
    "\n",
    "print (x)\n",
    "print (y)\n",
    "\n",
    "plt.scatter(x, y)\n",
    "plt.plot(line, model(line))\n",
    "plt.grid()\n",
    "plt.show()"
   ]
  },
  {
   "cell_type": "code",
   "execution_count": 89,
   "metadata": {
    "collapsed": false,
    "pycharm": {
     "name": "#%%\n"
    }
   },
   "outputs": [
    {
     "name": "stdout",
     "output_type": "stream",
     "text": [
      "a,1\n",
      "b,2\n",
      "c,5"
     ]
    }
   ],
   "source": [
    "# bad practice:\n",
    "# f = open('ref_data.csv', 'rt')\n",
    "# fw = open('data_w.t', 'w')\n",
    "# fa = open('data_a.t', 'a')\n",
    "# instead use:\n",
    "with open('ref_data.csv', 'rt') as f, open('data_w.t', 'w') as fw, open('data_a.t', 'a') as fa:\n",
    "    # print(f.read())\n",
    "    # print(f.readline(), end = '')\n",
    "    for line in f:\n",
    "        try:\n",
    "            fw.write(line[2])\n",
    "            fa.write(line[0])\n",
    "        except Exception as err:\n",
    "            print(f'Error: {err}')\n",
    "        print(line, end = '')\n",
    "\n",
    "# not necessary when using 'with'\n",
    "# f.close()\n",
    "# fw.close()\n",
    "# fa.close()"
   ]
  },
  {
   "cell_type": "code",
   "execution_count": 5,
   "metadata": {
    "collapsed": false,
    "pycharm": {
     "name": "#%%\n"
    }
   },
   "outputs": [
    {
     "ename": "TypeError",
     "evalue": "unsupported operand type(s) for -: 'float' and 'list'",
     "output_type": "error",
     "traceback": [
      "\u001b[0;31m---------------------------------------------------------------------------\u001b[0m",
      "\u001b[0;31mTypeError\u001b[0m                                 Traceback (most recent call last)",
      "\u001b[0;32m/tmp/ipykernel_50088/814494337.py\u001b[0m in \u001b[0;36m<module>\u001b[0;34m\u001b[0m\n\u001b[1;32m    109\u001b[0m \u001b[0;34m\u001b[0m\u001b[0m\n\u001b[1;32m    110\u001b[0m \u001b[0;31m# Run cubic_spline interpolant.\u001b[0m\u001b[0;34m\u001b[0m\u001b[0;34m\u001b[0m\u001b[0m\n\u001b[0;32m--> 111\u001b[0;31m \u001b[0mcubic_spline\u001b[0m\u001b[0;34m(\u001b[0m\u001b[0;36m10\u001b[0m\u001b[0;34m,\u001b[0m\u001b[0mx_vals\u001b[0m\u001b[0;34m,\u001b[0m\u001b[0mfx\u001b[0m\u001b[0;34m)\u001b[0m\u001b[0;34m\u001b[0m\u001b[0;34m\u001b[0m\u001b[0m\n\u001b[0m",
      "\u001b[0;32m/tmp/ipykernel_50088/814494337.py\u001b[0m in \u001b[0;36mcubic_spline\u001b[0;34m(n, xn, a)\u001b[0m\n\u001b[1;32m     70\u001b[0m     \u001b[0;31m# the appropriate polynomials and graphing.\u001b[0m\u001b[0;34m\u001b[0m\u001b[0;34m\u001b[0m\u001b[0m\n\u001b[1;32m     71\u001b[0m     \u001b[0;32mfor\u001b[0m \u001b[0mj\u001b[0m \u001b[0;32min\u001b[0m \u001b[0mrange\u001b[0m\u001b[0;34m(\u001b[0m\u001b[0mn\u001b[0m\u001b[0;34m-\u001b[0m\u001b[0;36m2\u001b[0m\u001b[0;34m)\u001b[0m\u001b[0;34m:\u001b[0m\u001b[0;34m\u001b[0m\u001b[0;34m\u001b[0m\u001b[0m\n\u001b[0;32m---> 72\u001b[0;31m         \u001b[0mcub_graph\u001b[0m\u001b[0;34m(\u001b[0m\u001b[0ma\u001b[0m\u001b[0;34m[\u001b[0m\u001b[0mj\u001b[0m\u001b[0;34m]\u001b[0m\u001b[0;34m,\u001b[0m\u001b[0mb\u001b[0m\u001b[0;34m[\u001b[0m\u001b[0mj\u001b[0m\u001b[0;34m]\u001b[0m\u001b[0;34m,\u001b[0m\u001b[0mc\u001b[0m\u001b[0;34m[\u001b[0m\u001b[0mj\u001b[0m\u001b[0;34m]\u001b[0m\u001b[0;34m,\u001b[0m\u001b[0md\u001b[0m\u001b[0;34m[\u001b[0m\u001b[0mj\u001b[0m\u001b[0;34m]\u001b[0m\u001b[0;34m,\u001b[0m\u001b[0mxn\u001b[0m\u001b[0;34m,\u001b[0m\u001b[0mxn\u001b[0m\u001b[0;34m[\u001b[0m\u001b[0mj\u001b[0m\u001b[0;34m+\u001b[0m\u001b[0;36m1\u001b[0m\u001b[0;34m]\u001b[0m\u001b[0;34m)\u001b[0m\u001b[0;34m\u001b[0m\u001b[0;34m\u001b[0m\u001b[0m\n\u001b[0m\u001b[1;32m     73\u001b[0m \u001b[0;34m\u001b[0m\u001b[0m\n\u001b[1;32m     74\u001b[0m     \u001b[0mplt\u001b[0m\u001b[0;34m.\u001b[0m\u001b[0mshow\u001b[0m\u001b[0;34m(\u001b[0m\u001b[0;34m)\u001b[0m\u001b[0;34m\u001b[0m\u001b[0;34m\u001b[0m\u001b[0m\n",
      "\u001b[0;32m/tmp/ipykernel_50088/814494337.py\u001b[0m in \u001b[0;36mcub_graph\u001b[0;34m(a, b, c, d, x_i, x_i_1)\u001b[0m\n\u001b[1;32m     88\u001b[0m \u001b[0;34m\u001b[0m\u001b[0m\n\u001b[1;32m     89\u001b[0m     \u001b[0;31m# Set up our domain between data points, and plot the function\u001b[0m\u001b[0;34m\u001b[0m\u001b[0;34m\u001b[0m\u001b[0m\n\u001b[0;32m---> 90\u001b[0;31m     \u001b[0mpts\u001b[0m \u001b[0;34m=\u001b[0m \u001b[0marange\u001b[0m\u001b[0;34m(\u001b[0m\u001b[0mx_i\u001b[0m\u001b[0;34m,\u001b[0m\u001b[0mx_i_1\u001b[0m\u001b[0;34m,\u001b[0m \u001b[0;36m0.001\u001b[0m\u001b[0;34m)\u001b[0m\u001b[0;34m\u001b[0m\u001b[0;34m\u001b[0m\u001b[0m\n\u001b[0m\u001b[1;32m     91\u001b[0m     \u001b[0mplt\u001b[0m\u001b[0;34m.\u001b[0m\u001b[0mplot\u001b[0m\u001b[0;34m(\u001b[0m\u001b[0mpts\u001b[0m\u001b[0;34m,\u001b[0m \u001b[0mpoly\u001b[0m\u001b[0;34m(\u001b[0m\u001b[0mpts\u001b[0m\u001b[0;34m)\u001b[0m\u001b[0;34m,\u001b[0m \u001b[0;34m'-'\u001b[0m\u001b[0;34m)\u001b[0m\u001b[0;34m\u001b[0m\u001b[0;34m\u001b[0m\u001b[0m\n\u001b[1;32m     92\u001b[0m     \u001b[0;32mreturn\u001b[0m\u001b[0;34m\u001b[0m\u001b[0;34m\u001b[0m\u001b[0m\n",
      "\u001b[0;31mTypeError\u001b[0m: unsupported operand type(s) for -: 'float' and 'list'"
     ]
    }
   ],
   "source": [
    "import matplotlib.pyplot as plt\n",
    "from pylab import arange\n",
    "from math import e\n",
    "from math import pi\n",
    "from math import sin\n",
    "from math import cos\n",
    "from numpy import poly1d\n",
    "\n",
    "# need some zero vectors...\n",
    "def zeroV(m):\n",
    "    z = [0]*m\n",
    "    return(z)\n",
    "\n",
    "#INPUT: n; x0, x1, ... ,xn; a0 = f(x0), a1 =f(x1), ... , an = f(xn).\n",
    "def cubic_spline(n, xn, a):\n",
    "    # \"\"\"function cubic_spline(n,xn, a, xd) interpolates between the knots\n",
    "    #    specified by lists xn and a. The function computes the coefficients\n",
    "    #    and outputs the ranges of the piecewise cubic splines.\"\"\"\n",
    "\n",
    "    h = zeroV(n-1)\n",
    "\n",
    "    # alpha will be values in a system of eq's that will allow us to solve for c\n",
    "    # and then from there we can find b, d through substitution.\n",
    "    alpha = zeroV(n-1)\n",
    "\n",
    "    # l, u, z are used in the method for solving the linear system\n",
    "    l = zeroV(n+1)\n",
    "    u = zeroV(n)\n",
    "    z = zeroV(n+1)\n",
    "\n",
    "    # b, c, d will be the coefficients along with a.\n",
    "    b = zeroV(n)\n",
    "    c = zeroV(n+1)\n",
    "    d = zeroV(n)\n",
    "\n",
    "    for i in range(n-1):\n",
    "        # h[i] is used to satisfy the condition that\n",
    "        # Si+1(xi+l) = Si(xi+l) for each i = 0,..,n-1\n",
    "        # i.e., the values at the knots are \"doubled up\"\n",
    "        h[i] = xn[i+1]-xn[i]\n",
    "\n",
    "    for i in range(1, n-1):\n",
    "        # Sets up the linear system and allows us to find c.  Once we have\n",
    "        # c then b and d follow in terms of it.\n",
    "        alpha[i] = (3./h[i])*(a[i+1]-a[i])-(3./h[i-1])*(a[i] - a[i-1])\n",
    "\n",
    "    # I, II, (part of) III Sets up and solves tridiagonal linear system...\n",
    "    # I\n",
    "    l[0] = 1\n",
    "    u[0] = 0\n",
    "    z[0] = 0\n",
    "\n",
    "    # II\n",
    "    for i in range(1, n-1):\n",
    "        l[i] = 2*(xn[i+1] - xn[i-1]) - h[i-1]*u[i-1]\n",
    "        u[i] = h[i]/l[i]\n",
    "        z[i] = (alpha[i] - h[i-1]*z[i-1])/l[i]\n",
    "\n",
    "    l[n] = 1\n",
    "    z[n] = 0\n",
    "    c[n] = 0\n",
    "\n",
    "    # III... also find b, d in terms of c.\n",
    "    for j in range(n-2, -1, -1):\n",
    "        c[j] = z[j] - u[j]*c[j+1]\n",
    "        b[j] = (a[j+1] - a[j])/h[j] - h[j]*(c[j+1] + 2*c[j])/3.\n",
    "        d[j] = (c[j+1] - c[j])/(3*h[j])\n",
    "\n",
    "        # Now that we have the coefficients it's just a matter of constructing\n",
    "    # the appropriate polynomials and graphing.\n",
    "    for j in range(n-2):\n",
    "        cub_graph(a[j],b[j],c[j],d[j],xn[j],xn[j+1])\n",
    "\n",
    "    plt.show()\n",
    "\n",
    "def cub_graph(a,b,c,d, x_i, x_i_1):\n",
    "    # \"\"\"cub_graph takes the i'th coefficient set along with the x[i] and x[i+1]'th\n",
    "    #    data pts, and constructs the polynomial spline between the two data pts using\n",
    "    #    the poly1d python object (which simply returns a polynomial with a given root.\"\"\"\n",
    "\n",
    "    # notice here that we are just building the cubic polynomial piece by piece\n",
    "    root = poly1d(x_i,True)\n",
    "    poly = 0\n",
    "    poly = d * root ** 3\n",
    "    poly = poly + c * root ** 2\n",
    "    poly = poly + b*root\n",
    "    poly = poly + a\n",
    "\n",
    "    # Set up our domain between data points, and plot the function\n",
    "    pts = arange(x_i,x_i_1, 0.001)\n",
    "    plt.plot(pts, poly(pts), '-')\n",
    "    return\n",
    "\n",
    "\n",
    "# These are our data points\n",
    "x_vals = [0, 1./6, 1./3, 1./2, 7./12, 2./3, 3./4, 5./6, 11./12, 1]\n",
    "\n",
    "# Set up the domain\n",
    "x_domain = arange(0,2, 1e-2)\n",
    "\n",
    "fx = zeroV(10)\n",
    "\n",
    "# Defines the function so we can get our fx values\n",
    "def sine_func(x):\n",
    "    return 1.6 * e ** (-2 * x) * sin(3 * pi * x)\n",
    "\n",
    "for i in range(len(x_vals)):\n",
    "    fx[i] = sine_func(x_vals[i])\n",
    "\n",
    "# Run cubic_spline interpolant.\n",
    "cubic_spline(10,x_vals,fx)"
   ]
  },
  {
   "cell_type": "code",
   "execution_count": 7,
   "metadata": {
    "collapsed": false,
    "pycharm": {
     "name": "#%%\n"
    }
   },
   "outputs": [
    {
     "name": "stdout",
     "output_type": "stream",
     "text": [
      "15.203125000000002\n"
     ]
    }
   ],
   "source": [
    "from scipy import interpolate\n",
    "\n",
    "def f(x):\n",
    "    x_points = [ 0, 1, 2, 3, 4, 5]\n",
    "    y_points = [12,14,22,39,58,77]\n",
    "\n",
    "    tck = interpolate.splrep(x_points, y_points)\n",
    "    return interpolate.splev(x, tck)\n",
    "\n",
    "print(f(1.25))"
   ]
  },
  {
   "cell_type": "code",
   "execution_count": 148,
   "metadata": {
    "collapsed": false,
    "pycharm": {
     "name": "#%%\n"
    }
   },
   "outputs": [
    {
     "data": {
      "image/png": "[encoded data removed]",
      "text/plain": [
       "<Figure size 432x288 with 1 Axes>"
      ]
     },
     "metadata": {
      "needs_background": "light"
     },
     "output_type": "display_data"
    },
    {
     "data": {
      "image/png": "[encoded data removed]",
      "text/plain": [
       "<Figure size 432x288 with 1 Axes>"
      ]
     },
     "metadata": {
      "needs_background": "light"
     },
     "output_type": "display_data"
    }
   ],
   "source": [
    "import numpy as np\n",
    "import matplotlib.pyplot as plt\n",
    "from math import sqrt\n",
    "\n",
    "def cubic_interp1d(x0, x, y):\n",
    "    \"\"\"\n",
    "    Interpolate a 1-D function using cubic splines.\n",
    "      x0 : a float or an 1d-array\n",
    "      x : (N,) array_like\n",
    "          A 1-D array of real/complex values.\n",
    "      y : (N,) array_like\n",
    "          A 1-D array of real values. The length of y along the\n",
    "          interpolation axis must be equal to the length of x.\n",
    "\n",
    "    Implement a trick to generate at first step the cholesky matrice L of\n",
    "    the tridiagonal matrice A (thus L is a bidiagonal matrice that\n",
    "    can be solved in two distinct loops).\n",
    "\n",
    "    additional ref: www.math.uh.edu/~jingqiu/math4364/spline.pdf\n",
    "    \"\"\"\n",
    "    x = np.asfarray(x)\n",
    "    y = np.asfarray(y)\n",
    "\n",
    "    # remove non finite values\n",
    "    # indexes = np.isfinite(x)\n",
    "    # x = x[indexes]\n",
    "    # y = y[indexes]\n",
    "\n",
    "    # check if sorted\n",
    "    if np.any(np.diff(x) < 0):\n",
    "        indexes = np.argsort(x)\n",
    "        x = x[indexes]\n",
    "        y = y[indexes]\n",
    "\n",
    "    size = len(x)\n",
    "\n",
    "    xdiff = np.diff(x)\n",
    "    ydiff = np.diff(y)\n",
    "\n",
    "    # allocate buffer matrices\n",
    "    Li = np.empty(size)\n",
    "    Li_1 = np.empty(size-1)\n",
    "    z = np.empty(size)\n",
    "\n",
    "    # fill diagonals Li and Li-1 and solve [L][y] = [B]\n",
    "    Li[0] = sqrt(2*xdiff[0])\n",
    "    Li_1[0] = 0.0\n",
    "    B0 = 0.0 # natural boundary\n",
    "    z[0] = B0 / Li[0]\n",
    "\n",
    "    for i in range(1, size-1, 1):\n",
    "        Li_1[i] = xdiff[i-1] / Li[i-1]\n",
    "        Li[i] = sqrt(2*(xdiff[i-1]+xdiff[i]) - Li_1[i-1] * Li_1[i-1])\n",
    "        Bi = 6*(ydiff[i]/xdiff[i] - ydiff[i-1]/xdiff[i-1])\n",
    "        z[i] = (Bi - Li_1[i-1]*z[i-1])/Li[i]\n",
    "\n",
    "    i = size - 1\n",
    "    Li_1[i-1] = xdiff[-1] / Li[i-1]\n",
    "    Li[i] = sqrt(2*xdiff[-1] - Li_1[i-1] * Li_1[i-1])\n",
    "    Bi = 0.0 # natural boundary\n",
    "    z[i] = (Bi - Li_1[i-1]*z[i-1])/Li[i]\n",
    "\n",
    "    # solve [L.T][x] = [y]\n",
    "    i = size-1\n",
    "    z[i] = z[i] / Li[i]\n",
    "    for i in range(size-2, -1, -1):\n",
    "        z[i] = (z[i] - Li_1[i-1]*z[i+1])/Li[i]\n",
    "\n",
    "    # find index\n",
    "    index = x.searchsorted(x0)\n",
    "    np.clip(index, 1, size-1, index)\n",
    "\n",
    "    xi1, xi0 = x[index], x[index-1]\n",
    "    yi1, yi0 = y[index], y[index-1]\n",
    "    zi1, zi0 = z[index], z[index-1]\n",
    "    hi1 = xi1 - xi0\n",
    "\n",
    "    # calculate cubic\n",
    "    f0 = zi0/(6*hi1)*(xi1-x0)**3 + zi1/(6*hi1)*(x0-xi0)**3 + (yi1/hi1 - zi1*hi1/6)*(x0-xi0) + (yi0/hi1 - zi0*hi1/6)*(xi1-x0)\n",
    "    return f0\n",
    "\n",
    "def test1():\n",
    "    x = np.linspace(0, 10, 5)\n",
    "    y = np.tan(x)\n",
    "    plt.scatter(x, y)\n",
    "\n",
    "    x_new = np.linspace(0, 10, 100)\n",
    "    plt.plot(x_new, cubic_interp1d(x_new, x, y))\n",
    "\n",
    "    plt.show()\n",
    "\n",
    "def test2():\n",
    "    x = np.linspace(0, 10, 5)\n",
    "    y = np.sin(x)\n",
    "    plt.scatter(x, y)\n",
    "\n",
    "    x_new = np.linspace(0, 10, 50)\n",
    "    plt.plot(x_new, cubic_interp1d(x_new, x, y), 'o')\n",
    "\n",
    "    plt.show()\n",
    "\n",
    "test1()\n",
    "test2()"
   ]
  },
  {
   "cell_type": "code",
   "execution_count": 91,
   "metadata": {
    "collapsed": false,
    "pycharm": {
     "name": "#%%\n"
    }
   },
   "outputs": [
    {
     "name": "stdout",
     "output_type": "stream",
     "text": [
      "[5, 6, 7, 8, 9, 10, 11, 12, 13, 14, 15, 16, 17, 18, 19, 20]\n",
      "[1.0, 1.199, 1.392, 1.573, 1.7359999999999998, 1.875, 1.984, 2.0570000000000004, 2.0879999999999996, 2.0709999999999997, 2.0, 1.8719999999999999, 1.695999999999998, 1.4840000000000018, 1.248000000000001, 1.0]\n"
     ]
    },
    {
     "data": {
      "image/png": "[encoded data removed]",
      "text/plain": [
       "<Figure size 432x288 with 1 Axes>"
      ]
     },
     "metadata": {
      "needs_background": "light"
     },
     "output_type": "display_data"
    }
   ],
   "source": [
    "\n",
    "# x = np.arange(5, 21, 1)\n",
    "x = []\n",
    "y = []\n",
    "\n",
    "\n",
    "for i in range (5, 16):\n",
    "    x.append(i)\n",
    "    y.append(-0.001 * i ** 3 + 0.015 * i ** 2 + 0.125 * i + 0.125)\n",
    "\n",
    "for i in range (16, 21):\n",
    "    x.append(i)\n",
    "    y.append(0.002 * i ** 3 - 0.12 * i ** 2 + 2.15 * i - 10)\n",
    "print(x)\n",
    "print(y)\n",
    "\n",
    "plt.plot(x, y, 'o')\n",
    "plt.show()"
   ]
  },
  {
   "cell_type": "code",
   "execution_count": 140,
   "metadata": {
    "collapsed": false,
    "pycharm": {
     "name": "#%%\n"
    }
   },
   "outputs": [
    {
     "name": "stdout",
     "output_type": "stream",
     "text": [
      "[10, 5, 5]\n",
      "[-2.4000000000000004]\n"
     ]
    },
    {
     "data": {
      "text/plain": [
       "[<matplotlib.lines.Line2D at 0x7ff82ce30a90>]"
      ]
     },
     "execution_count": 140,
     "metadata": {},
     "output_type": "execute_result"
    },
    {
     "data": {
      "image/png": "[encoded data removed]",
      "text/plain": [
       "<Figure size 432x288 with 1 Axes>"
      ]
     },
     "metadata": {
      "needs_background": "light"
     },
     "output_type": "display_data"
    }
   ],
   "source": [
    "# x=[5,7.5,9.9,12.9,13.2,15.1,16.3,16.8]\n",
    "# y=[0.024,0.0437,0.0797,0.171,0.199,0.326,0.846,0.972]\n",
    "x=[5, 15, 20, 25]\n",
    "y=[1, 2, 1, 5]\n",
    "n=len(x)\n",
    "\n",
    "h=[x[i] - x[i-1] for i in range(1, n)]\n",
    "print(h)\n",
    "h1=[x[i+1] - x[i] for i in range(n-1)]\n",
    "\n",
    "a=[h[i] for i in range(1,n-2)]\n",
    "c=[2.*(h[i]+h[i+1]) for i in range(n-2)]\n",
    "b=[h[i] for i in range(2,n-1)]\n",
    "# f=[6.*((y[i+1]-y[i])/h[i]-(y[i]-y[i-1])/h[i-1]) for i in range(1,n-1)]\n",
    "f=[6 *((y[i+1]-y[i])/h[i+1]-(y[i]-y[i-1])/h[i]) for i in range(1,n-2)]\n",
    "print(f)\n",
    "\n",
    "\n",
    "#progonochnye coefficienty\n",
    "A=[0.]\n",
    "B=[0.]\n",
    "for m in range(len(a)):\n",
    "    B.append((f[m]-a[m]*B[-1])/(a[m]*A[-1]+c[m]))\n",
    "    A.append(-1.*b[m]/(A[-1]*a[m]+c[m]))\n",
    "\n",
    "#koefficienty of splyne\n",
    "C=[(f[-1]-a[-1]*B[-1])/(c[-1]+a[-1]*A[-1])]\n",
    "for k in range (2,len(A)+1):\n",
    "    C.insert(0,A[-k]*C[-1]+B[-k])\n",
    "C.insert(0,0.)\n",
    "C.append(0.)\n",
    "k3=[]\n",
    "k2=[]\n",
    "k1=[]\n",
    "for j in range(1,len(C)):\n",
    "    k3.append((C[j]-C[j-1])/h[j-1])\n",
    "    k2.append((0.5*h[j-1]*C[j-1])-((1./6.)*((h[j-1])**2.)*k3[j-1])+((y[j]-y[j-1])/h[j-1]))\n",
    "    #k2.append(h[j-1]*(2.*C1[j]+C1[j-1])/6.+(y[j]-y[j-1])/h[j-1])\n",
    "    k1.append(y[j-1])\n",
    "\n",
    "#zadanie function\n",
    "def spline(z,xt,a1,b1,c1,d1):\n",
    "    return a1+b1*(z-xt)+(c1/2.)*((z-xt)**2.)+(d1/6.)*((z-xt)**3.)\n",
    "\n",
    "#postroenie splyne\n",
    "x2=[]\n",
    "y2=[]\n",
    "for i in range(n-1):\n",
    "    for j in range(11):\n",
    "        x2.append(x[i]+(h[i]/10.)*j)\n",
    "        y2.append(spline(x2[-1],x[i],k1[i],k2[i],C[i],k3[i]))\n",
    "plt.plot(x2,y2)"
   ]
  },
  {
   "cell_type": "code",
   "execution_count": 134,
   "metadata": {
    "collapsed": false,
    "pycharm": {
     "name": "#%%\n"
    }
   },
   "outputs": [
    {
     "name": "stdout",
     "output_type": "stream",
     "text": [
      "a: [1, 2, 1, 5]\n",
      "b: [0, 0, 0]\n",
      "d: [0, 0, 0]\n",
      "h: [10, 5, 5]\n",
      "alpha: [-0.8999999999999999, 3.0]\n",
      "c: [0, 0, 0]\n",
      "l: [0, 0, 0]\n",
      "u: [0, 0, 0]\n",
      "z: [0, 0, 0]\n"
     ]
    },
    {
     "ename": "IndexError",
     "evalue": "list index out of range",
     "output_type": "error",
     "traceback": [
      "\u001b[0;31m---------------------------------------------------------------------------\u001b[0m",
      "\u001b[0;31mIndexError\u001b[0m                                Traceback (most recent call last)",
      "\u001b[0;32m/tmp/ipykernel_50088/278259534.py\u001b[0m in \u001b[0;36m<module>\u001b[0;34m\u001b[0m\n\u001b[1;32m     31\u001b[0m     \u001b[0ml\u001b[0m\u001b[0;34m[\u001b[0m\u001b[0mi\u001b[0m\u001b[0;34m]\u001b[0m \u001b[0;34m=\u001b[0m \u001b[0;36m2\u001b[0m \u001b[0;34m*\u001b[0m \u001b[0;34m(\u001b[0m\u001b[0mx\u001b[0m\u001b[0;34m[\u001b[0m\u001b[0mi\u001b[0m\u001b[0;34m+\u001b[0m\u001b[0;36m1\u001b[0m\u001b[0;34m]\u001b[0m \u001b[0;34m-\u001b[0m \u001b[0mx\u001b[0m\u001b[0;34m[\u001b[0m\u001b[0mi\u001b[0m\u001b[0;34m-\u001b[0m\u001b[0;36m1\u001b[0m\u001b[0;34m]\u001b[0m\u001b[0;34m)\u001b[0m \u001b[0;34m-\u001b[0m \u001b[0mh\u001b[0m\u001b[0;34m[\u001b[0m\u001b[0mi\u001b[0m\u001b[0;34m-\u001b[0m\u001b[0;36m1\u001b[0m\u001b[0;34m]\u001b[0m \u001b[0;34m*\u001b[0m \u001b[0mu\u001b[0m\u001b[0;34m[\u001b[0m\u001b[0mi\u001b[0m\u001b[0;34m-\u001b[0m\u001b[0;36m1\u001b[0m\u001b[0;34m]\u001b[0m\u001b[0;34m\u001b[0m\u001b[0;34m\u001b[0m\u001b[0m\n\u001b[1;32m     32\u001b[0m     \u001b[0mu\u001b[0m\u001b[0;34m[\u001b[0m\u001b[0mi\u001b[0m\u001b[0;34m]\u001b[0m \u001b[0;34m=\u001b[0m \u001b[0mh\u001b[0m\u001b[0;34m[\u001b[0m\u001b[0mi\u001b[0m\u001b[0;34m]\u001b[0m \u001b[0;34m/\u001b[0m \u001b[0ml\u001b[0m\u001b[0;34m[\u001b[0m\u001b[0mi\u001b[0m\u001b[0;34m]\u001b[0m\u001b[0;34m\u001b[0m\u001b[0;34m\u001b[0m\u001b[0m\n\u001b[0;32m---> 33\u001b[0;31m     \u001b[0mz\u001b[0m\u001b[0;34m[\u001b[0m\u001b[0mi\u001b[0m\u001b[0;34m]\u001b[0m \u001b[0;34m=\u001b[0m \u001b[0;34m(\u001b[0m\u001b[0malpha\u001b[0m\u001b[0;34m[\u001b[0m\u001b[0mi\u001b[0m\u001b[0;34m]\u001b[0m \u001b[0;34m-\u001b[0m \u001b[0mh\u001b[0m\u001b[0;34m[\u001b[0m\u001b[0mi\u001b[0m\u001b[0;34m-\u001b[0m\u001b[0;36m1\u001b[0m\u001b[0;34m]\u001b[0m \u001b[0;34m*\u001b[0m \u001b[0mz\u001b[0m\u001b[0;34m[\u001b[0m\u001b[0mi\u001b[0m\u001b[0;34m-\u001b[0m\u001b[0;36m1\u001b[0m\u001b[0;34m]\u001b[0m\u001b[0;34m)\u001b[0m \u001b[0;34m/\u001b[0m\u001b[0ml\u001b[0m\u001b[0;34m[\u001b[0m\u001b[0mi\u001b[0m\u001b[0;34m]\u001b[0m\u001b[0;34m\u001b[0m\u001b[0;34m\u001b[0m\u001b[0m\n\u001b[0m\u001b[1;32m     34\u001b[0m \u001b[0ml\u001b[0m\u001b[0;34m[\u001b[0m\u001b[0mn\u001b[0m\u001b[0;34m]\u001b[0m \u001b[0;34m=\u001b[0m \u001b[0;36m1\u001b[0m\u001b[0;34m\u001b[0m\u001b[0;34m\u001b[0m\u001b[0m\n\u001b[1;32m     35\u001b[0m \u001b[0mz\u001b[0m\u001b[0;34m[\u001b[0m\u001b[0mn\u001b[0m\u001b[0;34m]\u001b[0m \u001b[0;34m=\u001b[0m \u001b[0mc\u001b[0m\u001b[0;34m[\u001b[0m\u001b[0mn\u001b[0m\u001b[0;34m]\u001b[0m \u001b[0;34m=\u001b[0m \u001b[0;36m0\u001b[0m\u001b[0;34m\u001b[0m\u001b[0;34m\u001b[0m\u001b[0m\n",
      "\u001b[0;31mIndexError\u001b[0m: list index out of range"
     ]
    }
   ],
   "source": [
    "x=[5, 15, 20, 25]\n",
    "y=[1, 2, 1, 5]\n",
    "# x=[5,7.5,9.9,12.9,13.2,15.1,16.3,16.8]\n",
    "# y=[0.024,0.0437,0.0797,0.171,0.199,0.326,0.846,0.972]\n",
    "n=len(x)\n",
    "\n",
    "\n",
    "a = [y[i] for i in range(0, n)]\n",
    "print(\"a:\", a)\n",
    "b = [0] * (n - 1)\n",
    "print(\"b:\", b)\n",
    "d = [0] * (n - 1)\n",
    "print(\"d:\", d)\n",
    "h = [x[i + 1] - x[i] for i in range(0, n - 1)]\n",
    "print(\"h:\", h)\n",
    "alpha = [3 / h[i] * (a[i+1] - a[i]) - 3 / h[i-1] * (a[i] - a[i-1]) for i in range(1, n - 1)]\n",
    "print(\"alpha:\", alpha)\n",
    "\n",
    "c = [0] * (n - 1)\n",
    "print(\"c:\", c)\n",
    "l = [0] * (n - 1)\n",
    "print(\"l:\", l)\n",
    "u = [0] * (n - 1)\n",
    "print(\"u:\", u)\n",
    "z = [0] * (n - 1)\n",
    "print(\"z:\", z)\n",
    "\n",
    "l[0] = 1\n",
    "u[0] = z[0] = 0\n",
    "for i in range(1, n - 1):\n",
    "    l[i] = 2 * (x[i+1] - x[i-1]) - h[i-1] * u[i-1]\n",
    "    u[i] = h[i] / l[i]\n",
    "    z[i] = (alpha[i] - h[i-1] * z[i-1]) /l[i]\n",
    "l[n] = 1\n",
    "z[n] = c[n] = 0\n",
    "\n"
   ]
  }
 ],
 "metadata": {
  "kernelspec": {
   "display_name": "venv",
   "language": "python",
   "name": "python3"
  },
  "language_info": {
   "codemirror_mode": {
    "name": "ipython",
    "version": 3
   },
   "file_extension": ".py",
   "mimetype": "text/x-python",
   "name": "python",
   "nbconvert_exporter": "python",
   "pygments_lexer": "ipython3",
   "version": "3.10.8 (main, Nov  1 2022, 14:18:21) [GCC 12.2.0]"
  },
  "vscode": {
   "interpreter": {
    "hash": "fa47481e70611725216ed42dc4772716839eaecf2b080b58aec0db89f9e3d6b5"
   }
  }
 },
 "nbformat": 4,
 "nbformat_minor": 5
}
