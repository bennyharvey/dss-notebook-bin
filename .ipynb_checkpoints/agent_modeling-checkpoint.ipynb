{
 "cells": [
  {
   "cell_type": "code",
   "execution_count": 3,
   "id": "c782ca5f",
   "metadata": {
    "collapsed": false,
    "jupyter": {
     "outputs_hidden": false
    },
    "pycharm": {
     "name": "#%%\n"
    }
   },
   "outputs": [
    {
     "ename": "SyntaxError",
     "evalue": "invalid syntax (lib_agent_modeling.py, line 402)",
     "output_type": "error",
     "traceback": [
      "Traceback \u001b[0;36m(most recent call last)\u001b[0m:\n",
      "  File \u001b[1;32m\"/home/terry/anaconda3/lib/python3.9/site-packages/IPython/core/interactiveshell.py\"\u001b[0m, line \u001b[1;32m3444\u001b[0m, in \u001b[1;35mrun_code\u001b[0m\n    exec(code_obj, self.user_global_ns, self.user_ns)\n",
      "\u001b[0;36m  File \u001b[0;32m\"/tmp/ipykernel_43889/368234082.py\"\u001b[0;36m, line \u001b[0;32m1\u001b[0;36m, in \u001b[0;35m<module>\u001b[0;36m\u001b[0m\n\u001b[0;31m    import lib_agent_modeling as mod\u001b[0m\n",
      "\u001b[0;36m  File \u001b[0;32m\"/home/terry/pg/research/dss-notebook-bin/lib_agent_modeling.py\"\u001b[0;36m, line \u001b[0;32m402\u001b[0m\n\u001b[0;31m    match pd_round_result:\u001b[0m\n\u001b[0m          ^\u001b[0m\n\u001b[0;31mSyntaxError\u001b[0m\u001b[0;31m:\u001b[0m invalid syntax\n"
     ]
    }
   ],
   "source": [
    "import lib_agent_modeling as mod\n",
    "import importlib\n",
    "import time\n",
    "print (sys.version)\n",
    "\n",
    "agent_config = mod.AgentModelConfig(\n",
    "    debug_mode=True,\n",
    "    hierarchy_levels=10,\n",
    "    random_agent_amount=10000,\n",
    "    weight_amount_speed_rate=0.2\n",
    ")\n",
    "simulation_config = mod.SimulationConfig(\n",
    "    grasp_threshold=0.99\n",
    ")\n",
    "network = mod.AgentNetwork(agent_config)\n"
   ]
  },
  {
   "cell_type": "code",
   "execution_count": 11,
   "id": "65a83323",
   "metadata": {
    "collapsed": false,
    "jupyter": {
     "outputs_hidden": false
    },
    "pycharm": {
     "name": "#%%\n"
    }
   },
   "outputs": [
    {
     "name": "stdout",
     "output_type": "stream",
     "text": [
      "Simulation completed in 363 iterations\n",
      "Execution time: 17.64 seconds with 10000 agents and 1000 max transfer iterations\n"
     ]
    }
   ],
   "source": [
    "importlib.reload(mod)\n",
    "\n",
    "def main():\n",
    "    v_graph     = mod.AgentGraph(network)\n",
    "    simulation  = mod.Simulation(network, simulation_config)\n",
    "\n",
    "    network.reset_agents_experience()\n",
    "    simulation.set_type(mod.SimulationType.GraspTransfer)\n",
    "    simulation.run()\n",
    "    print(f'Simulation completed in {simulation.completed_in} iterations')\n",
    "\n",
    "    v_graph.draw_visjs_graph()\n",
    "    # v_graph.draw_ploty_graph()\n",
    "    pass\n",
    "\n",
    "if __name__ == \"__main__\":\n",
    "    start_time = time.time()\n",
    "    main()\n",
    "    print(f'Execution time: {round((time.time() - start_time), 2)} seconds with {agent_config.random_agent_amount} agents and {agent_config.max_transfer_iterations} max transfer iterations')\n"
   ]
  }
 ],
 "metadata": {
  "kernelspec": {
   "display_name": "Python 3 (ipykernel)",
   "language": "python",
   "name": "python3"
  },
  "language_info": {
   "codemirror_mode": {
    "name": "ipython",
    "version": 3
   },
   "file_extension": ".py",
   "mimetype": "text/x-python",
   "name": "python",
   "nbconvert_exporter": "python",
   "pygments_lexer": "ipython3",
   "version": "3.9.7"
  }
 },
 "nbformat": 4,
 "nbformat_minor": 5
}
